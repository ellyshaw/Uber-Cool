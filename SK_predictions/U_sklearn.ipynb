{
 "cells": [
  {
   "cell_type": "code",
   "execution_count": 118,
   "metadata": {
    "collapsed": true
   },
   "outputs": [],
   "source": [
    "import csv\n",
    "from plotly.graph_objs import *\n",
    "import numpy as np\n",
    "from sklearn.svm import SVR\n",
    "import plotly as py\n",
    "py.tools.set_credentials_file(username='RobDavies1995', api_key='TFbYdNvOJocRJYixcCv8')\n",
    "import plotly.plotly as py"
   ]
  },
  {
   "cell_type": "code",
   "execution_count": 119,
   "metadata": {
    "collapsed": true
   },
   "outputs": [],
   "source": [
    "py.sign_in('RobDavies1995', 'TFbYdNvOJocRJYixcCv8')\n",
    "dates = []\n",
    "unemployment = []"
   ]
  },
  {
   "cell_type": "code",
   "execution_count": 120,
   "metadata": {
    "collapsed": true
   },
   "outputs": [],
   "source": [
    "filepath = r'C:\\Users\\Student\\Documents\\Uber\\CleanLondonUnemploymentNew.csv'"
   ]
  },
  {
   "cell_type": "code",
   "execution_count": 121,
   "metadata": {
    "collapsed": true
   },
   "outputs": [],
   "source": [
    "def get_data(filepath):\n",
    "    with open(filepath, 'r') as csvfile:\n",
    "        csvFileReader = csv.reader(csvfile)\n",
    "        next(csvFileReader)\n",
    "        for row in csvFileReader:\n",
    "            dates.append(float(row[0]))\n",
    "            unemployment.append(float(row[1]))\n",
    "    return"
   ]
  },
  {
   "cell_type": "code",
   "execution_count": 122,
   "metadata": {},
   "outputs": [],
   "source": [
    "get_data(r'C:\\data\\uber\\CleanLondonUnemploymentNew.csv')"
   ]
  },
  {
   "cell_type": "code",
   "execution_count": 123,
   "metadata": {},
   "outputs": [
    {
     "name": "stdout",
     "output_type": "stream",
     "text": [
      "[1.0, 2.0, 3.0, 4.0, 5.0, 6.0, 7.0, 8.0, 9.0, 10.0, 11.0, 12.0, 13.0, 14.0, 15.0, 16.0, 17.0, 18.0, 19.0, 20.0, 21.0, 22.0, 23.0, 24.0, 25.0, 26.0]\n"
     ]
    }
   ],
   "source": [
    "print(dates)"
   ]
  },
  {
   "cell_type": "code",
   "execution_count": 133,
   "metadata": {},
   "outputs": [],
   "source": [
    "def predict_unemployment(dates, unemployment, x):\n",
    "    dates = np.array(dates)[np.newaxis]\n",
    "    dates = dates.T\n",
    "    svr_poly = SVR(kernel='poly', C=1e3, degree=2)\n",
    "    svr_rbf = SVR(kernel='rbf', C=1e3, gamma=0.001)\n",
    "    svr_rbf.fit(dates, unemployment)\n",
    "    lw = 2\n",
    "    p1 = go.Scatter(x=dates, y=unemployment,\n",
    "                     mode='markers',\n",
    "                     marker=dict(color='black'),\n",
    "                     name='data')\n",
    "    p2 = go.Scatter(x=dates, y=svr_rbf.predict(dates),\n",
    "                     mode='lines',\n",
    "                     line=dict(color='red', width=lw))\n",
    "    p3 = go.Scatter(x=futureDates, y = svr_rbf.predict(futureDates),\n",
    "                     mode='lines',\n",
    "                     line=dict(color='blue', width=lw))\n",
    "    data = [p1, p2, p3]\n",
    "    layout = go.Layout(title='Model',\n",
    "                        hovermode='closest',\n",
    "                        xaxis=dict(title='Date starting a 2011 q1'),\n",
    "                        yaxis=dict(title='Urate%')\n",
    "                        )\n",
    "    fig = go.Figure(data=data, layout=layout)\n",
    "    py.iplot(fig)\n",
    "    return (svr_rbf.predict(futureDates))"
   ]
  },
  {
   "cell_type": "code",
   "execution_count": 134,
   "metadata": {},
   "outputs": [],
   "source": [
    "get_data(r'C:\\data\\uber\\CleanLondonUnemploymentNew.csv')\n",
    "futureDates = []\n",
    "for i in range(10):\n",
    "    futureDates.append(i+26)"
   ]
  },
  {
   "cell_type": "code",
   "execution_count": 135,
   "metadata": {},
   "outputs": [
    {
     "data": {
      "text/plain": [
       "[26, 27, 28, 29, 30, 31, 32, 33, 34, 35]"
      ]
     },
     "execution_count": 135,
     "metadata": {},
     "output_type": "execute_result"
    }
   ],
   "source": [
    "futureDates"
   ]
  },
  {
   "cell_type": "code",
   "execution_count": 136,
   "metadata": {},
   "outputs": [
    {
     "data": {
      "text/plain": [
       "array([ 5.60060134,  5.60647343,  5.62598275,  5.6551886 ,  5.68999096,\n",
       "        5.72623215,  5.75979535,  5.78669797,  5.80317794,  5.80577118])"
      ]
     },
     "execution_count": 136,
     "metadata": {},
     "output_type": "execute_result"
    }
   ],
   "source": [
    "futureDates = np.array(futureDates)[np.newaxis]\n",
    "futureDates = futureDates.T\n",
    "predict_unemployment(dates, unemployment, futureDates)"
   ]
  },
  {
   "cell_type": "code",
   "execution_count": null,
   "metadata": {},
   "outputs": [],
   "source": [
    "dates"
   ]
  },
  {
   "cell_type": "code",
   "execution_count": null,
   "metadata": {
    "collapsed": true
   },
   "outputs": [],
   "source": []
  }
 ],
 "metadata": {
  "kernelspec": {
   "display_name": "Python 3",
   "language": "python",
   "name": "python3"
  },
  "language_info": {
   "codemirror_mode": {
    "name": "ipython",
    "version": 3
   },
   "file_extension": ".py",
   "mimetype": "text/x-python",
   "name": "python",
   "nbconvert_exporter": "python",
   "pygments_lexer": "ipython3",
   "version": "3.6.3"
  }
 },
 "nbformat": 4,
 "nbformat_minor": 2
}
