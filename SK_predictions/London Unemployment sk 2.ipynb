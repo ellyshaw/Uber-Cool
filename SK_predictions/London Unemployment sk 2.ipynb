{
 "cells": [
  {
   "cell_type": "code",
   "execution_count": 6,
   "metadata": {
    "collapsed": true
   },
   "outputs": [],
   "source": [
    "import csv\n",
    "import plotly.graph_objs as go\n",
    "import numpy as np\n",
    "from sklearn.svm import SVR\n",
    "import plotly as py\n",
    "py.tools.set_credentials_file(username='elly_shaw', api_key='R9xLWdZhfGJB9iSECgoi')\n",
    "import plotly.plotly as py"
   ]
  },
  {
   "cell_type": "code",
   "execution_count": 7,
   "metadata": {
    "collapsed": true
   },
   "outputs": [],
   "source": [
    "%matplotlib inline"
   ]
  },
  {
   "cell_type": "code",
   "execution_count": 8,
   "metadata": {
    "collapsed": true
   },
   "outputs": [],
   "source": [
    "py.sign_in('elly_shaw', 'R9xLWdZhfGJB9iSECgoi')\n",
    "dates = []\n",
    "unemployment = []"
   ]
  },
  {
   "cell_type": "code",
   "execution_count": 9,
   "metadata": {
    "collapsed": true
   },
   "outputs": [],
   "source": [
    "filepath = r'C:\\Users\\Student\\Documents\\Uber\\CleanLondonUnemploymentNew.csv'"
   ]
  },
  {
   "cell_type": "code",
   "execution_count": 10,
   "metadata": {
    "collapsed": true
   },
   "outputs": [],
   "source": [
    "def get_data(filepath):\n",
    "    with open(filepath, 'r') as csvfile:\n",
    "        csvFileReader = csv.reader(csvfile)\n",
    "        next(csvFileReader)\n",
    "        for row in csvFileReader:\n",
    "            dates.append(float(row[0]))\n",
    "            unemployment.append(float(row[1]))\n",
    "    return"
   ]
  },
  {
   "cell_type": "code",
   "execution_count": 11,
   "metadata": {},
   "outputs": [],
   "source": [
    "get_data(r'C:\\Users\\Student\\Documents\\Uber\\CleanLondonUnemploymentNew.csv')"
   ]
  },
  {
   "cell_type": "code",
   "execution_count": 12,
   "metadata": {},
   "outputs": [
    {
     "name": "stdout",
     "output_type": "stream",
     "text": [
      "[2011.0, 2011.25, 2011.5, 2011.75, 2012.0, 2012.25, 2012.5, 2012.75, 2013.0, 2013.25, 2013.5, 2013.75, 2014.0, 2014.25, 2014.5, 2014.75, 2015.0, 2015.25, 2015.5, 2015.75, 2016.0, 2016.25, 2016.5, 2016.75, 2017.0, 2017.25]\n"
     ]
    }
   ],
   "source": [
    "print(dates)"
   ]
  },
  {
   "cell_type": "code",
   "execution_count": 25,
   "metadata": {
    "collapsed": true
   },
   "outputs": [],
   "source": [
    "def predict_unemployment(dates, unemployment, x):\n",
    "    dates = np.array(dates)[np.newaxis]\n",
    "    dates = dates.T\n",
    "    svr_poly = SVR(kernel='poly', C=1e3, degree=2)\n",
    "    svr_rbf = SVR(kernel='rbf', C=1e3, gamma=0.001)\n",
    "    svr_rbf.fit(dates, unemployment)\n",
    "    lw = 2\n",
    "    p1 = go.Scatter(x=dates, y=unemployment,\n",
    "                    mode='markers',\n",
    "                    marker=dict(color='black'),\n",
    "                    name='data')\n",
    "    p2 = go.Scatter(x=dates, y=svr_rbf.predict(dates),\n",
    "                    mode='lines',\n",
    "                    line=dict(color='turquoise', width=lw))\n",
    "    p3 = go.Scatter(x=futureDates, y = svr_rbf.predict(futureDates),\n",
    "                    mode='lines',\n",
    "                    line=dict(color='turquoise', width=lw))\n",
    "    data = [p1, p2, p3]\n",
    "    layout = go.Layout(title='Model',\n",
    "                      hovermode='closest',\n",
    "                      xaxis=dict(title='Date'),\n",
    "                      yaxis=dict(title='Sales')\n",
    "                      )\n",
    "    fig = go.Figure(data=data, layout=layout)\n",
    "    py.iplot(fig)"
   ]
  },
  {
   "cell_type": "code",
   "execution_count": 26,
   "metadata": {},
   "outputs": [],
   "source": [
    "get_data(r'C:\\Users\\Student\\Documents\\Uber\\CleanLondonUnemploymentNew.csv')\n",
    "futureDates = []\n",
    "for i in range(30):\n",
    "    futureDates.append(i+43)"
   ]
  },
  {
   "cell_type": "code",
   "execution_count": 27,
   "metadata": {},
   "outputs": [],
   "source": [
    "futureDates = np.array(futureDates)[np.newaxis]\n",
    "futureDates = futureDates.T\n",
    "predicted_result = predict_unemployment(dates, unemployment, futureDates)"
   ]
  },
  {
   "cell_type": "code",
   "execution_count": 28,
   "metadata": {},
   "outputs": [],
   "source": [
    "predict_unemployment(dates, unemployment, futureDates)"
   ]
  },
  {
   "cell_type": "code",
   "execution_count": null,
   "metadata": {
    "collapsed": true
   },
   "outputs": [],
   "source": []
  }
 ],
 "metadata": {
  "kernelspec": {
   "display_name": "Python 3",
   "language": "python",
   "name": "python3"
  },
  "language_info": {
   "codemirror_mode": {
    "name": "ipython",
    "version": 3
   },
   "file_extension": ".py",
   "mimetype": "text/x-python",
   "name": "python",
   "nbconvert_exporter": "python",
   "pygments_lexer": "ipython3",
   "version": "3.6.3"
  }
 },
 "nbformat": 4,
 "nbformat_minor": 2
}
