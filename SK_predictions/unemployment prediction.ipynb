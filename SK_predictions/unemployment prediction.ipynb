{
 "cells": [
  {
   "cell_type": "markdown",
   "metadata": {},
   "source": [
    "This code takes existing data on unemployment rates for London and using radial based functions predicts how it will develop in the 5 years afterwards"
   ]
  },
  {
   "cell_type": "code",
   "execution_count": 1,
   "metadata": {
    "collapsed": true
   },
   "outputs": [],
   "source": [
    "import csv\n",
    "from plotly.graph_objs import *\n",
    "import numpy as np\n",
    "from sklearn.svm import SVR\n",
    "import plotly as py\n",
    "py.tools.set_credentials_file(username='RobDavies1995', api_key='TFbYdNvOJocRJYixcCv8')\n",
    "import plotly.plotly as py"
   ]
  },
  {
   "cell_type": "code",
   "execution_count": 2,
   "metadata": {
    "collapsed": true
   },
   "outputs": [],
   "source": [
    "py.sign_in('RobDavies1995', 'TFbYdNvOJocRJYixcCv8')  ##plotly signin\n",
    "dates = [] \n",
    "unemployment = [] ## create empty lists for the dates and eunemployment"
   ]
  },
  {
   "cell_type": "code",
   "execution_count": 3,
   "metadata": {
    "collapsed": true
   },
   "outputs": [],
   "source": [
    "filepath = r'C:\\Users\\Student\\Documents\\Uber\\CleanLondonUnemploymentNew.csv' "
   ]
  },
  {
   "cell_type": "markdown",
   "metadata": {},
   "source": [
    "from csv filepath the first column includes dates, the second unemployment data. These are then appended to empty lists created above"
   ]
  },
  {
   "cell_type": "code",
   "execution_count": 4,
   "metadata": {
    "collapsed": true
   },
   "outputs": [],
   "source": [
    "def get_data(filepath):\n",
    "    with open(filepath, 'r') as csvfile:\n",
    "        csvFileReader = csv.reader(csvfile)\n",
    "        next(csvFileReader)\n",
    "        for row in csvFileReader:\n",
    "            dates.append(float(row[0]))\n",
    "            unemployment.append(float(row[1]))\n",
    "    return\n"
   ]
  },
  {
   "cell_type": "markdown",
   "metadata": {},
   "source": [
    "The following is the radial based prediction function;"
   ]
  },
  {
   "cell_type": "code",
   "execution_count": 6,
   "metadata": {},
   "outputs": [],
   "source": [
    "def predict_unemployment(dates, unemployment, x): ## define the function and the inputs neccessary\n",
    "    dates = np.array(dates)[np.newaxis] ## create numpy array from the dates list\n",
    "    dates = dates.T ## transpose this information so its an x axis\n",
    "    svr_rbf = SVR(kernel='rbf', C=1e3, gamma=0.001) \n",
    "    svr_rbf.fit(dates, unemployment) ## fits the data\n",
    "    lw = 2 ##line width\n",
    "    p1 = go.Scatter(x=dates, y=unemployment,\n",
    "                     mode='markers',\n",
    "                     marker=dict(color='black'),\n",
    "                     name='data')\n",
    "    ## the first plot is the original data - dates v unemployment \n",
    "    p2 = go.Scatter(x=dates, y=svr_rbf.predict(dates),\n",
    "                     mode='lines',\n",
    "                     line=dict(color='red', width=lw))\n",
    "    ## the second creates a best fit line\n",
    "    p3 = go.Scatter(x=futureDates, y = svr_rbf.predict(futureDates),\n",
    "                     mode='lines',\n",
    "                     line=dict(color='blue', width=lw))\n",
    "    ## the third predicts the unemployment rate for the future\n",
    "    data = [p1, p2, p3]\n",
    "    layout = go.Layout(title='Model',\n",
    "                        hovermode='closest',\n",
    "                        xaxis=dict(title='Date starting a 2011 q1'),\n",
    "                        yaxis=dict(title='Urate%')\n",
    "                        )  ## plotly layout\n",
    "    fig = go.Figure(data=data, layout=layout)\n",
    "    py.iplot(fig)  ## plot\n",
    "    return (svr_rbf.predict(futureDates))"
   ]
  },
  {
   "cell_type": "code",
   "execution_count": 7,
   "metadata": {},
   "outputs": [],
   "source": [
    "get_data(r'C:\\data\\uber\\CleanLondonUnemploymentNew.csv')\n",
    "futureDates = []\n",
    "for i in range(10):\n",
    "    futureDates.append(i+26)  ## adds next 10 quarters to the data "
   ]
  },
  {
   "cell_type": "code",
   "execution_count": 8,
   "metadata": {},
   "outputs": [
    {
     "data": {
      "text/plain": [
       "[26, 27, 28, 29, 30, 31, 32, 33, 34, 35]"
      ]
     },
     "execution_count": 8,
     "metadata": {},
     "output_type": "execute_result"
    }
   ],
   "source": [
    "futureDates"
   ]
  },
  {
   "cell_type": "code",
   "execution_count": 136,
   "metadata": {},
   "outputs": [
    {
     "data": {
      "text/plain": [
       "array([ 5.60060134,  5.60647343,  5.62598275,  5.6551886 ,  5.68999096,\n",
       "        5.72623215,  5.75979535,  5.78669797,  5.80317794,  5.80577118])"
      ]
     },
     "execution_count": 136,
     "metadata": {},
     "output_type": "execute_result"
    }
   ],
   "source": [
    "futureDates = np.array(futureDates)[np.newaxis]\n",
    "futureDates = futureDates.T  ## transpose the dates list including the new data\n",
    "predict_unemployment(dates, unemployment, futureDates) ## plot "
   ]
  }
 ],
 "metadata": {
  "kernelspec": {
   "display_name": "Python 3",
   "language": "python",
   "name": "python3"
  },
  "language_info": {
   "codemirror_mode": {
    "name": "ipython",
    "version": 3
   },
   "file_extension": ".py",
   "mimetype": "text/x-python",
   "name": "python",
   "nbconvert_exporter": "python",
   "pygments_lexer": "ipython3",
   "version": "3.6.3"
  }
 },
 "nbformat": 4,
 "nbformat_minor": 2
}
