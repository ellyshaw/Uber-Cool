{
 "cells": [
  {
   "cell_type": "code",
   "execution_count": 12,
   "metadata": {},
   "outputs": [],
   "source": [
    "import csv\n",
    "import plotly.graph_objs as go\n",
    "import numpy as np\n",
    "from sklearn.svm import SVR\n",
    "import plotly as py\n",
    "py.tools.set_credentials_file(username='RobDavies1995', api_key='TFbYdNvOJocRJYixcCv8')\n",
    "import plotly.plotly as py"
   ]
  },
  {
   "cell_type": "code",
   "execution_count": 2,
   "metadata": {
    "collapsed": true
   },
   "outputs": [],
   "source": [
    "py.sign_in('RobDavies1995', 'TFbYdNvOJocRJYixcCv8')\n",
    "dates = []\n",
    "drivers = []"
   ]
  },
  {
   "cell_type": "code",
   "execution_count": 3,
   "metadata": {
    "collapsed": true
   },
   "outputs": [],
   "source": [
    "filepath = r'C:\\data\\uber\\selfemployedtaxi.csv'"
   ]
  },
  {
   "cell_type": "code",
   "execution_count": 4,
   "metadata": {
    "collapsed": true
   },
   "outputs": [],
   "source": [
    "def get_data(filepath):\n",
    "    with open(filepath, 'r') as csvfile:\n",
    "        csvFileReader = csv.reader(csvfile)\n",
    "        next(csvFileReader)\n",
    "        for row in csvFileReader:\n",
    "            dates.append(float(row[0]))\n",
    "            drivers.append(float(row[1]))\n",
    "    return"
   ]
  },
  {
   "cell_type": "code",
   "execution_count": 5,
   "metadata": {},
   "outputs": [],
   "source": [
    "get_data(r'C:\\data\\uber\\selfemployedtaxi.csv')"
   ]
  },
  {
   "cell_type": "code",
   "execution_count": 6,
   "metadata": {},
   "outputs": [
    {
     "name": "stdout",
     "output_type": "stream",
     "text": [
      "[2013.0, 2014.0, 2015.0, 2016.0, 2017.0]\n"
     ]
    }
   ],
   "source": [
    "print(dates)"
   ]
  },
  {
   "cell_type": "code",
   "execution_count": 25,
   "metadata": {
    "collapsed": true
   },
   "outputs": [],
   "source": [
    "def predict_taxidrivers(dates, drivers, x):\n",
    "    dates = np.array(dates)[np.newaxis]\n",
    "    dates = dates.T\n",
    "    svr_poly = SVR(kernel='poly', C=1e3, degree=2)\n",
    "    svr_rbf = SVR(kernel='rbf', C=1e3, gamma=0.001)\n",
    "    svr_rbf.fit(dates, drivers)\n",
    "    lw = 2\n",
    "    p1 = go.Scatter(x=dates, y=drivers,\n",
    "                     mode='markers',\n",
    "                     marker=dict(color='black'),\n",
    "                     name='data')\n",
    "    p2 = go.Scatter(x=dates, y=svr_rbf.predict(dates),\n",
    "                     mode='lines',\n",
    "                     line=dict(color='red', width=lw))\n",
    "    p3 = go.Scatter(x=futureDates, y = svr_rbf.predict(futureDates),\n",
    "                     mode='lines',\n",
    "                     line=dict(color='blue', width=lw))\n",
    "    data = [p1, p2, p3]\n",
    "    layout = go.Layout(title='Model',\n",
    "                        hovermode='closest',\n",
    "                        xaxis=dict(title='Date'),\n",
    "                        yaxis=dict(title='# of Drivers')\n",
    "                        )\n",
    "    fig = go.Figure(data=data, layout=layout)\n",
    "    py.iplot(fig)\n",
    "    return (svr_rbf.predict(futureDates))"
   ]
  },
  {
   "cell_type": "code",
   "execution_count": 26,
   "metadata": {
    "collapsed": true
   },
   "outputs": [],
   "source": [
    "get_data(r'C:\\data\\uber\\selfemployedtaxi.csv')\n",
    "futureDates = []\n",
    "for i in range(5):\n",
    "    futureDates.append(i+2018)"
   ]
  },
  {
   "cell_type": "code",
   "execution_count": 27,
   "metadata": {},
   "outputs": [
    {
     "data": {
      "text/plain": [
       "[154048.0,\n",
       " 165184.0,\n",
       " 158785.0,\n",
       " 183907.0,\n",
       " 181920.0,\n",
       " 154048.0,\n",
       " 165184.0,\n",
       " 158785.0,\n",
       " 183907.0,\n",
       " 181920.0,\n",
       " 154048.0,\n",
       " 165184.0,\n",
       " 158785.0,\n",
       " 183907.0,\n",
       " 181920.0,\n",
       " 154048.0,\n",
       " 165184.0,\n",
       " 158785.0,\n",
       " 183907.0,\n",
       " 181920.0,\n",
       " 154048.0,\n",
       " 165184.0,\n",
       " 158785.0,\n",
       " 183907.0,\n",
       " 181920.0,\n",
       " 154048.0,\n",
       " 165184.0,\n",
       " 158785.0,\n",
       " 183907.0,\n",
       " 181920.0]"
      ]
     },
     "execution_count": 27,
     "metadata": {},
     "output_type": "execute_result"
    }
   ],
   "source": [
    "drivers"
   ]
  },
  {
   "cell_type": "code",
   "execution_count": 28,
   "metadata": {},
   "outputs": [
    {
     "data": {
      "text/plain": [
       "array([ 165421.66509926,  165479.40043647,  165535.77585161,\n",
       "        165590.46754342,  165643.16821521])"
      ]
     },
     "execution_count": 28,
     "metadata": {},
     "output_type": "execute_result"
    }
   ],
   "source": [
    "futureDates = np.array(futureDates)[np.newaxis]\n",
    "futureDates = futureDates.T\n",
    "predict_taxidrivers(dates, drivers, futureDates)"
   ]
  },
  {
   "cell_type": "code",
   "execution_count": 41,
   "metadata": {},
   "outputs": [
    {
     "data": {
      "text/plain": [
       "[2013.0,\n",
       " 2014.0,\n",
       " 2015.0,\n",
       " 2016.0,\n",
       " 2017.0,\n",
       " 2013.0,\n",
       " 2014.0,\n",
       " 2015.0,\n",
       " 2016.0,\n",
       " 2017.0]"
      ]
     },
     "execution_count": 41,
     "metadata": {},
     "output_type": "execute_result"
    }
   ],
   "source": [
    "dates"
   ]
  },
  {
   "cell_type": "code",
   "execution_count": null,
   "metadata": {
    "collapsed": true
   },
   "outputs": [],
   "source": []
  }
 ],
 "metadata": {
  "kernelspec": {
   "display_name": "Python 3",
   "language": "python",
   "name": "python3"
  },
  "language_info": {
   "codemirror_mode": {
    "name": "ipython",
    "version": 3
   },
   "file_extension": ".py",
   "mimetype": "text/x-python",
   "name": "python",
   "nbconvert_exporter": "python",
   "pygments_lexer": "ipython3",
   "version": "3.6.3"
  }
 },
 "nbformat": 4,
 "nbformat_minor": 2
}
