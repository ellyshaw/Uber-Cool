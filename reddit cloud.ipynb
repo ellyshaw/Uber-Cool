{
 "cells": [
  {
   "cell_type": "code",
   "execution_count": 1,
   "metadata": {
    "collapsed": true
   },
   "outputs": [],
   "source": [
    "import urllib.request\n",
    "import json\n",
    "import pymongo\n",
    "from pprint import pprint\n",
    "from vaderSentiment.vaderSentiment import SentimentIntensityAnalyzer\n",
    "import time\n",
    "import requests\n",
    "from nltk.corpus import stopwords"
   ]
  },
  {
   "cell_type": "code",
   "execution_count": 2,
   "metadata": {
    "collapsed": true
   },
   "outputs": [],
   "source": [
    "url = r'https://www.reddit.com/r/london/comments/71q10h/uber_loses_london_operating_licence_after_ruling/.json?limit=500'"
   ]
  },
  {
   "cell_type": "code",
   "execution_count": 3,
   "metadata": {},
   "outputs": [
    {
     "name": "stdout",
     "output_type": "stream",
     "text": [
      "20\n",
      "39\n",
      "45\n",
      "56\n",
      "58\n"
     ]
    }
   ],
   "source": [
    "comments = []\n",
    "replies =[]\n",
    "with urllib.request.urlopen(url) as uber:\n",
    "    content = uber.read()\n",
    "contentd = json.loads(content)\n",
    "for index, i in enumerate(contentd[1]['data']['children']):\n",
    "    try:\n",
    "        comments.append(i['data']['body'])\n",
    "        \n",
    "        if i['data']['replies'] !=\"\":\n",
    "            comments.append(i['data']['replies']['data']['children'][0]['data']['body'])\n",
    "    except:\n",
    "        print(index)\n",
    "        pass\n",
    "    "
   ]
  },
  {
   "cell_type": "code",
   "execution_count": 4,
   "metadata": {
    "collapsed": true
   },
   "outputs": [],
   "source": [
    "clean = []\n",
    "for i in comments:\n",
    "    clean.append(i.lower().strip().replace('\\n','').replace('-','').replace('https:','').replace('&','and').replace('\"','') \\\n",
    "           .replace('?','').replace('!','').replace(',','').replace('.','').replace(':','').replace(';','').replace(')','') \\\n",
    "           .replace('(','').replace('[','').replace(']','').replace('/',' ').replace('\"it\\'s\"','it\\'s').replace('cabs','cab'))"
   ]
  },
  {
   "cell_type": "code",
   "execution_count": 5,
   "metadata": {},
   "outputs": [
    {
     "data": {
      "text/plain": [
       "[\"london is uber's only profitable city in europe this is a big deal for them\",\n",
       " 'how what on earth are their overheads',\n",
       " \"ok so afaik this doesn't mean they're gonna be gone by midnight or some shitthey have 21 days to appeal  during which time they can continue to operate  and i *think* that after that they can keep operating until the entire appeal has been resolved  which could be *ages*and to be honest  they'll presumably win the appeal while giving up some major concessions reregulation this seems more like tfl demonstrating it means business especially in the wake of the dodgy sexual assault stuff\",\n",
       " 'yup uber has been described by the mayor of calgary as being the worst people he has had to negotiate with the company pulls a fine line between legal and informal economy they will be allowed to opperate however i imagine the city uses this as a bargaining chip with the proper cab industry too',\n",
       " 'i hope at the very least uber can demonstrate new policies for dealing with the demands of tfl so they can continue to operate and obtain a new licence hoping it also drives some change in the taxi industry as a whole which seems desperate to resist change',\n",
       " \"i think this is whats going to happen they'll appeal within the next 21 days and show that they've changed their reporting methods  pretty much a non event\",\n",
       " \"i'm not getting back into black cab that ship sailed a long time ago\",\n",
       " 'black cab are a last resort for me as well they are generally cunts',\n",
       " 'wow huge move and big surprise to me at leastuber can still operate during the appeals process which i guess could take months years',\n",
       " 'statement says 21 days not sure if that is to start the appeal process or complete',\n",
       " \"uber is amazing as a young girl just moved to this city it makes me feel 100% safer having the drivers name and registration plate on my phone and having the journey tracked i've jumped into a black cab before and couldn't see a medallion number when i asked the driver what it was he went mental and kicked me out  i'd clearly had a narrow escapeit's great for emergencies if you have no cash or cards on you i've left my bag in an uber once and it just took a really short text to the driver to get it back uber is a lifesaver for young girls or anyone of course i'm just saying from my perspective it makes me feel safer\",\n",
       " \"since the other two replies that were left were horrible i thought i'd leave a simple comment saying you have my sympathy\",\n",
       " \"i guess we're back to black cab fucking us over and only accepting cash and not going outside zone 1\",\n",
       " \"uber and black cab were never rivals in my eyes at leastif there is no uber i'd rather walk home for an hour at 1am instead of paying obscene taxi fares\",\n",
       " 'uber andgt black cab',\n",
       " 'why on earth are you being down voted for thischeaper more accessible tracked on an app more comfortable etc etc',\n",
       " \"worth noting that it's not because of money it's because of uber's lack of compliance with tfl's policies around reporting criminal offences data reporting medical certificates etc   twittercom julesmattsson status 911170360447574016uber has nobody to blame but itself\",\n",
       " \"i use uber all the time it's revolutionised how i and many other people are able to travel black cab are expensive and outdated mini cab are horrible yet i don't agree with many of uber's policies i don't actually want to give my money to a company that won't comply with basic standards of reporting criminal offences i don't like the choice between an amazing service with a shitty company culture and ethics vs breaking the bank to make a short journey if the result of this is that uber gets its licence back but is forced into cleaning up it's act then i'll be delighted\",\n",
       " \"look if uber has been shady with its reporting or has been doing things it shouldn't legally be doing then by all means let's try to fix that but i think the way the rest of the taxi industry is handling this is childish greedy and very anticonsumeri have a very serious visual impairment that basically renders me blind at night time its something similar to retinosa pigmentosa and it makes travelling on buses and the tube very difficult i basically see through a very thin tunnel and that makes navigating through crowds extremely difficult and dangerous for others around me i carry a white cane but it sometimes just isn't enough uber has been my life saver i have no affiliation with them at all but they've allowed me to live my life as normally as possible it's allowed me to travel to my lectures on dark and rainy afternoons to see friends when everyone is going out to make my regular hospital appointments and so onwhat sets it apart from other services is that i can contact my driver before hand and let them know of my condition absolutely every driver has been able to find my exact location and help me into and out of the car other taxi services just won't come to exactly where i'm standing and it becomes my task to spot them and wave them down something very difficult especially at nighti can't describe just how much uber has allowed me to live my life to a fuller extent i get very anxious when trying to get from place to place on my own and that app has basically always given me peace of mind that someone will find me and take me home when i'm in needi know i might be a minority in this case but i wouldn't have met the people i know today or lived the life i'm currently living without them in fact i had a life changing operation last year part of moorfields optirpe65 trials and i had to be there early in the morning i took my entire family in an uberxl and despite all the stress and emotion that day i was thankful to have gotten everyone there to support me and be by my side on time and without the frustration of other modes of transport\",\n",
       " 'recommend you get onto dialaride via tfl tailor made for people with serious impairments such as yourself',\n",
       " \"here's  pbstwimgcom media dkueri0w0aauk8ljpglarge the statement from tfl\",\n",
       " 'so all the other mini cab firms in london will also be losing their licenses as well because it strikes me that by every possible metric uber is safer than a minicab',\n",
       " \"sadiq khan sucked up to the black cab lobby during his election campaignfor someone who lives south of the river if uber is permanently banned i'm fucked\",\n",
       " 'sadiq khan was legally not allowed to intervene on this issue which was handled by tfl regulators',\n",
       " \"i will not give a penny to the black cab drivers after the stuff i've seen  them say on twitter cunts\",\n",
       " 'do you understand that black cab are not officially represented by a handful of people on twitter remember charlie  uploadwikimediaorg wikipedia en thumb e e1 charlie_slater2jpg 200pxcharlie_slater2jpg from eastenders was he a cunt',\n",
       " 'what that is such bad news the cabbies needed competition and it was super convenient for so many londoners  essentially a form of ride sharing and reduced the numbers of cars in london a shame',\n",
       " \"it's not like i'm suddenly going to start taking black cab anywhere because of this either uber was the perfect medium to fill the opportunity cost lost by taking public transport\",\n",
       " \"so what's a similar replacement i don't want to use black cab or find some shitty min cab place only one i can think of that had a good app is addison lee anything else\",\n",
       " 'as a cyclist i like that their vehicles are branded  because as soon as you see one you know they are going to drive like an absolute ballbag',\n",
       " 'so they need to appeal and demonstrate that they will do better reporting crimes complying with medical certificates etc and opening up their data to tfl or are they just fucked',\n",
       " 'yep in other words all of the basic things that we should expect from any taxi company operating in london and all things they should have been doing from the start',\n",
       " \"i know this subreddit has a love for uber but consider the following uber have an absolutely terrible corporate culture with numerous abuse and sexism allegations the offer absolutely no employment rights to their thousands of drivers around the city they pay very little taxes in the uk despite doing a huge amount of business here they have failed to report abuse by drivers endangering the safety of passengersi know that uber have innovated in the market and have provided a good service and that we all hate black cab however this doesn't mean that we should accept the above behaviour hopefully a new ridesharing firm can launch which acts responsibly and doesn't abuse its staff and take advantage of customers\",\n",
       " \"a lot of the above goes for the black cab trade too they aren't exactly upheld as a shining example of not being sexist racist etc and it's well known by hmrc that they don't collect all taxes owing on cash fares from cab black cab drivers are selfemployed too  so again no employment rights there and we all know there are plenty of cases of black cab drivers abusing passengers in an industry that is this bad uber are not much different from anyone elseit really shines a light on the forhire business as a whole tfl need to take some of uber's technology and apply it across the industry all drivers should be tracked passengers should be able to feedback on all drivers and there should be video in every vehicle and of course everyone should be paying the same taxes too\",\n",
       " 'taxi for uber',\n",
       " 'thread won',\n",
       " 'drunken night buses all the way ',\n",
       " 'instead of struggling and appealing the decision they should fix their problems and apply for a license again when they are ready',\n",
       " 'the black cab mafia throwing their support behind sadiq has paid off then',\n",
       " 'jump in my addison lee',\n",
       " \"yeah i couldn't get an uber it might've been there soonerit might've been way cheaperbut sadiq don't like it muchlondon got blocked off of uber girlit could've been way sooner girl\",\n",
       " \"what's to stop them from clearing up their act and reapplying for a licence\",\n",
       " 'nothing in fact the tfl statement is actively encouraging that',\n",
       " \"so tfl's decision is based on uber demonstrating a lack of corporate responsibility in relation to a number of issues which have potential public safety and security implications these issues include the way they report criminal offences medical certification dbs checks and the use of greyballi'd be interested in seeing more detail in terms of what specific practices tfl are concerned about and why can anyone point me in the direction of some further reading so i can understand more about this\",\n",
       " '  tflgovuk infofor media pressreleases 2017 september licensingdecisiononuberlondonlimited',\n",
       " \"that's a shame every experience i've had with black cab drivers has been overwhelmingly negative will never use them again\",\n",
       " \"just to offer a different perspective i'll miss uber as a cheaper option for personal travel personally but i frequently work late and my employer pays for a taxi home which is sometimes an uber and sometimes a black cab depending on availability i used to go from farringdon to west kensington and if you put that into a gps it will take you up to king's cross past euston and along the a40 coming in at the top of kensington   notting hill the problem with that is that the road up to king's cross and generally to the a40 is absolutely rammed at most points so unless you get lucky with the traffic it's actually about 10 minutes quicker in the evening to go along the strand through trafalgar square and up the mall into kensington black cab drivers always knew that and so i liked getting them as the fact they need to have local knowledge meant i got home quicker that said i've had some right odious black cab drivers and some really nice ones whereas most uber drivers i've met have always ranged from comfortably quiet to really nice presumably as they depend on having a good rating\",\n",
       " \"complete madness i can't believe that cabbies still have so much power in london\",\n",
       " \"what power tfl has clearly identified issues with uber's model this is nothing to do with cabbie power\",\n",
       " 'good what with brexit we need to be taking proper british cab run by british men with british hair and british guts british brainsand british feetbritishhands',\n",
       " 'brace yourself everyone the union fanboys are storming this thread with a downvote brigade',\n",
       " \"it's interesting that this thread is almost the polar opposite of the other news thread on here today\",\n",
       " \"all other points aside it's hilarious and disgusting to see so many people defend to the death a massive corporation i guess worker's rights don't matter when you can get a cheap taxi home from that fabulous party\",\n",
       " \"to be honest i think people have tried uber and found it a fairly good service at good valueblack cab on the other hand have probably let us all down i remember before uber waiting in a long queue at a taxi rank outside charing cross at 2am one saturday morning  and black cab after black cab would drop somebody off outside the rank then drive off empty  refusing to pick anybody up the only way home was the night bus literallyadded to which black cab are notoriously expensive but that's not the worst of itblack cab will block roads  wwwtheguardiancom technology 2016 feb 10 blackcabdriversuberprotestlondontrafficstandstill like vile black lives matter protesters  wwwtheguardiancom uknews 2016 aug 05 blacklivesmatterprotestsparksheathrowtrafficchaos because they think they are more important than the commuting public so they are incredibly selfish and don't care who they hurtand black cab have no driving skills they wander over lane markings never indicate and generally show zero actual driving *skill* so they are offensive to other motoristsnobody wants to see black cab thrive because of these selfish hateful attributes sure uber have problems but at least they offer a competitive service\",\n",
       " 'for now',\n",
       " \"hopefully it's a kick up the arse for uber to sort out their admin side of things and maybe just maybe the black cab will realise people aren't going to pay their ridiculous prices going forward\",\n",
       " \"what's the 'night czar' doing about it\",\n",
       " \"what's the night czar doing about literally anything\",\n",
       " 'this is the guidance for operator compliance inspections lf uber managed to mess these up they are in a worse state than we thought  tflgovuk cdn static cms documents phvoperatorinspectionspdfthey either have 50 compliance failings or they have had several warnings already',\n",
       " \"they're kinda being pricks from what i hear as long as lyft are here by the time they're gone i don't care\",\n",
       " \"good news uber are an absolutely scummy companynow is the time to replace them with one that isn't so terrible in its practices get those alternative apps installed everyone\",\n",
       " 'or the government is doing its job to force them into becoming better corporate citizens',\n",
       " \"for what it's worth there's a petition to the mayor presumably started by uber  wwwchangeorg p saveyouruberinlondonsaveyouruber\",\n",
       " 'deleted',\n",
       " 'or another less shitty rideshare app will get lots of new drivers and customers',\n",
       " 'i have lived in london for 13 years and have ever only once taken a black cab and felt like i was mugged honestly a lot of black cabbies are down right rude i take ubers constantly so this is very sad news for me looks like ill be walking a lot more now though good cardio at least haha',\n",
       " \"agreed  i've taken a lot of trips in london with black cab and with uber and i've had a lot more unpleasant rude incidents with black cab than i've ever had with uber\",\n",
       " 'fuck sake',\n",
       " \"it's telling that it's the same one or two users in this comments thread constantly defending tfl's decision on every comment tree\",\n",
       " 'organise standing protests on all roads stopping black cab from completing journeys and therefore earning money disgraceful decision',\n",
       " \"it's got nothing to do with black cab it's that uber are deemed not 'fit and proper' to hold an operators licence by tfl as stated above uber only have themselves to blame however they will appeal successfully with various new conditions on there licence  similar to fabric\",\n",
       " \"potentially inconvenient but they're a shady as shit company and this was the right thing to do until they get their act together convinced they astroturf the hell out of this subreddit too\",\n",
       " \"lmao classic 'people don't agree with me they must be shills'or you know just a lot of people like using uber\",\n",
       " \"my dad is a nonracist tax paying happy to drive south taxi driver and three days ago told me uber were going to lose their license  i argued that it would never happen guess i'm eating my hat nowmy dad has never minded uber and understands why my brother and i use it at times but he obviously got some information off of someone about all this\",\n",
       " 'deleted',\n",
       " 'deleted',\n",
       " 'boy this sub has really gone downhill some of the comments here are simply asinine and people are upvoting absolute tosh',\n",
       " 'it started to change hmmmm around 25000 subs give or take',\n",
       " \"will they operate in the next 21 days only or until appeal process is exhausted that's the big question\",\n",
       " 'i wasnt expecting this i was expecting ubers licence being granted on condition of dbs checks english language proficiency demands that the drivers become employees instead of contractors with limits on drivers hours and consent to mandatory auditing',\n",
       " 'are other services like hailo going to be okay',\n",
       " 'oh ffs',\n",
       " 'i hope lyft launches in london i have heard nothing but good things from them',\n",
       " 'can someone elaborate on a little background on how it all came to this',\n",
       " \"uber wasn't following a few rules in fairness  they should be following the rules tfl got sick of black cab complaining all the time and could see that uber isn't doing enough to keep up its legal duties it gave them an excuse to revoke their license\",\n",
       " 'didnt another ride hailing app in london get banned recently because it had no licence at all',\n",
       " 'are lyft and juno available in london',\n",
       " \"i think it's a joke that the reason for not renewing is for our safety i don't want to have to go back to taking dodgy night buses i feel less safe without uber\",\n",
       " 'glad they are banned for now i hope it gives them the kick they need to improve their business practices and raise driving standardsi am pretty tired of having to dodge uber drivers who seem to think they can stop absolutely anywhere turn around whenever they feel like it and generally drive at a very low and even dangerous standardjust last night on a short drive i encountered two uber drivers who decided to stop right next to very busy box junctions in order to pick up passengers several others were stopped in poor locations causing traffic mayhem when they blocked a bus from a narrow roadthey need to be educated on safer driving and i think all of them should have to take and pass a uk driving test as well as some additional training on navigation the rules of the road and passenger safety',\n",
       " \"boy i was scared about freshers being a shitshow at least we get another 3 weeks this is all on uber for not running their shit properly shame this had to happen but it had to happen and i'm glad tfl have put their foot down hopefully whoever takes uber's place will do it right\",\n",
       " 'khan once again showing how useless he is',\n",
       " 'disgraceful crony capitalism',\n",
       " 'or you know legitimate concerns about passenger safety']"
      ]
     },
     "execution_count": 5,
     "metadata": {},
     "output_type": "execute_result"
    }
   ],
   "source": [
    "clean"
   ]
  },
  {
   "cell_type": "code",
   "execution_count": 6,
   "metadata": {
    "collapsed": true
   },
   "outputs": [],
   "source": [
    "stop = stopwords.words('english')"
   ]
  },
  {
   "cell_type": "code",
   "execution_count": 7,
   "metadata": {
    "collapsed": true
   },
   "outputs": [],
   "source": [
    "stop.append('http')"
   ]
  },
  {
   "cell_type": "code",
   "execution_count": 8,
   "metadata": {
    "collapsed": true
   },
   "outputs": [],
   "source": [
    "stop.append('it\\'s')"
   ]
  },
  {
   "cell_type": "code",
   "execution_count": 9,
   "metadata": {
    "collapsed": true
   },
   "outputs": [],
   "source": [
    "stop.append('don\\'t')"
   ]
  },
  {
   "cell_type": "code",
   "execution_count": 10,
   "metadata": {
    "collapsed": true
   },
   "outputs": [],
   "source": [
    "stop.append('i\\'ve')"
   ]
  },
  {
   "cell_type": "code",
   "execution_count": 11,
   "metadata": {
    "collapsed": true
   },
   "outputs": [],
   "source": [
    "stop.append('i\\'m')"
   ]
  },
  {
   "cell_type": "code",
   "execution_count": 12,
   "metadata": {
    "collapsed": true
   },
   "outputs": [],
   "source": [
    "stop.append('i\\'d')"
   ]
  },
  {
   "cell_type": "code",
   "execution_count": 13,
   "metadata": {
    "collapsed": true
   },
   "outputs": [],
   "source": [
    "stop.append('they\\'re')"
   ]
  },
  {
   "cell_type": "code",
   "execution_count": 14,
   "metadata": {
    "collapsed": true
   },
   "outputs": [],
   "source": [
    "stop.append('i\\'d')"
   ]
  },
  {
   "cell_type": "code",
   "execution_count": 15,
   "metadata": {
    "collapsed": true
   },
   "outputs": [],
   "source": [
    "stop.append('what\\'s')"
   ]
  },
  {
   "cell_type": "code",
   "execution_count": 16,
   "metadata": {
    "collapsed": true
   },
   "outputs": [],
   "source": [
    "stop.append('andgt')"
   ]
  },
  {
   "cell_type": "code",
   "execution_count": 17,
   "metadata": {
    "collapsed": true
   },
   "outputs": [],
   "source": [
    "stop.append('aren\\'t')"
   ]
  },
  {
   "cell_type": "code",
   "execution_count": 18,
   "metadata": {
    "collapsed": true
   },
   "outputs": [],
   "source": [
    "stop.append('weren\\'t')"
   ]
  },
  {
   "cell_type": "code",
   "execution_count": 19,
   "metadata": {
    "collapsed": true
   },
   "outputs": [],
   "source": [
    "stop.append('i\\'ll')"
   ]
  },
  {
   "cell_type": "code",
   "execution_count": 20,
   "metadata": {
    "collapsed": true
   },
   "outputs": [],
   "source": [
    "stop.append('they\\'ve')\n",
    "stop.append('way')\n",
    "stop.append('well')"
   ]
  },
  {
   "cell_type": "code",
   "execution_count": 21,
   "metadata": {},
   "outputs": [
    {
     "data": {
      "text/plain": [
       "['i',\n",
       " 'me',\n",
       " 'my',\n",
       " 'myself',\n",
       " 'we',\n",
       " 'our',\n",
       " 'ours',\n",
       " 'ourselves',\n",
       " 'you',\n",
       " 'your',\n",
       " 'yours',\n",
       " 'yourself',\n",
       " 'yourselves',\n",
       " 'he',\n",
       " 'him',\n",
       " 'his',\n",
       " 'himself',\n",
       " 'she',\n",
       " 'her',\n",
       " 'hers',\n",
       " 'herself',\n",
       " 'it',\n",
       " 'its',\n",
       " 'itself',\n",
       " 'they',\n",
       " 'them',\n",
       " 'their',\n",
       " 'theirs',\n",
       " 'themselves',\n",
       " 'what',\n",
       " 'which',\n",
       " 'who',\n",
       " 'whom',\n",
       " 'this',\n",
       " 'that',\n",
       " 'these',\n",
       " 'those',\n",
       " 'am',\n",
       " 'is',\n",
       " 'are',\n",
       " 'was',\n",
       " 'were',\n",
       " 'be',\n",
       " 'been',\n",
       " 'being',\n",
       " 'have',\n",
       " 'has',\n",
       " 'had',\n",
       " 'having',\n",
       " 'do',\n",
       " 'does',\n",
       " 'did',\n",
       " 'doing',\n",
       " 'a',\n",
       " 'an',\n",
       " 'the',\n",
       " 'and',\n",
       " 'but',\n",
       " 'if',\n",
       " 'or',\n",
       " 'because',\n",
       " 'as',\n",
       " 'until',\n",
       " 'while',\n",
       " 'of',\n",
       " 'at',\n",
       " 'by',\n",
       " 'for',\n",
       " 'with',\n",
       " 'about',\n",
       " 'against',\n",
       " 'between',\n",
       " 'into',\n",
       " 'through',\n",
       " 'during',\n",
       " 'before',\n",
       " 'after',\n",
       " 'above',\n",
       " 'below',\n",
       " 'to',\n",
       " 'from',\n",
       " 'up',\n",
       " 'down',\n",
       " 'in',\n",
       " 'out',\n",
       " 'on',\n",
       " 'off',\n",
       " 'over',\n",
       " 'under',\n",
       " 'again',\n",
       " 'further',\n",
       " 'then',\n",
       " 'once',\n",
       " 'here',\n",
       " 'there',\n",
       " 'when',\n",
       " 'where',\n",
       " 'why',\n",
       " 'how',\n",
       " 'all',\n",
       " 'any',\n",
       " 'both',\n",
       " 'each',\n",
       " 'few',\n",
       " 'more',\n",
       " 'most',\n",
       " 'other',\n",
       " 'some',\n",
       " 'such',\n",
       " 'no',\n",
       " 'nor',\n",
       " 'not',\n",
       " 'only',\n",
       " 'own',\n",
       " 'same',\n",
       " 'so',\n",
       " 'than',\n",
       " 'too',\n",
       " 'very',\n",
       " 's',\n",
       " 't',\n",
       " 'can',\n",
       " 'will',\n",
       " 'just',\n",
       " 'don',\n",
       " 'should',\n",
       " 'now',\n",
       " 'd',\n",
       " 'll',\n",
       " 'm',\n",
       " 'o',\n",
       " 're',\n",
       " 've',\n",
       " 'y',\n",
       " 'ain',\n",
       " 'aren',\n",
       " 'couldn',\n",
       " 'didn',\n",
       " 'doesn',\n",
       " 'hadn',\n",
       " 'hasn',\n",
       " 'haven',\n",
       " 'isn',\n",
       " 'ma',\n",
       " 'mightn',\n",
       " 'mustn',\n",
       " 'needn',\n",
       " 'shan',\n",
       " 'shouldn',\n",
       " 'wasn',\n",
       " 'weren',\n",
       " 'won',\n",
       " 'wouldn',\n",
       " 'http',\n",
       " \"it's\",\n",
       " \"don't\",\n",
       " \"i've\",\n",
       " \"i'm\",\n",
       " \"i'd\",\n",
       " \"they're\",\n",
       " \"i'd\",\n",
       " \"what's\",\n",
       " 'andgt',\n",
       " \"aren't\",\n",
       " \"weren't\",\n",
       " \"i'll\",\n",
       " \"they've\",\n",
       " 'way',\n",
       " 'well']"
      ]
     },
     "execution_count": 21,
     "metadata": {},
     "output_type": "execute_result"
    }
   ],
   "source": [
    "stop"
   ]
  },
  {
   "cell_type": "code",
   "execution_count": 22,
   "metadata": {
    "collapsed": true
   },
   "outputs": [],
   "source": [
    "wordcount = {}\n",
    "\n",
    "for line in clean: #for each line\n",
    "    words = line.split() #split into words ~~#space and tabs is default so nothing between brackets()\n",
    "    for word in words: # for each word in list words\n",
    "        \n",
    "        if word not in stop:\n",
    "            \n",
    "            wordcount[word] = wordcount.get(word, 0)+1 #add to dictionary, default of 0 add 1 when you find one"
   ]
  },
  {
   "cell_type": "code",
   "execution_count": 23,
   "metadata": {
    "collapsed": true
   },
   "outputs": [],
   "source": [
    "wc = sorted(wordcount.items(), key=lambda x: x[1], reverse=True)"
   ]
  },
  {
   "cell_type": "code",
   "execution_count": 92,
   "metadata": {},
   "outputs": [],
   "source": [
    "import matplotlib.pyplot as plt\n",
    "plt.figure()\n",
    "import plotly.plotly as py\n",
    "from plotly.graph_objs import *\n",
    "from wordcloud import WordCloud\n",
    "import numpy as np\n",
    "from PIL import Image\n",
    "from os import path\n"
   ]
  },
  {
   "cell_type": "code",
   "execution_count": 55,
   "metadata": {},
   "outputs": [],
   "source": [
    "d = path.dirname(r'C:\\data\\uber.png')"
   ]
  },
  {
   "cell_type": "code",
   "execution_count": 56,
   "metadata": {},
   "outputs": [
    {
     "data": {
      "text/plain": [
       "dict_items([('london', 10), (\"uber's\", 6), ('profitable', 1), ('city', 4), ('europe', 1), ('big', 3), ('deal', 1), ('earth', 2), ('overheads', 1), ('ok', 1), ('afaik', 1), (\"doesn't\", 3), ('mean', 2), ('gonna', 1), ('gone', 3), ('midnight', 1), ('shitthey', 1), ('21', 4), ('days', 5), ('appeal', 8), ('time', 8), ('continue', 2), ('operate', 4), ('*think*', 1), ('keep', 2), ('operating', 2), ('entire', 2), ('resolved', 1), ('could', 3), ('*ages*and', 1), ('honest', 2), (\"they'll\", 2), ('presumably', 3), ('win', 1), ('giving', 1), ('major', 1), ('concessions', 1), ('reregulation', 1), ('seems', 2), ('like', 12), ('tfl', 13), ('demonstrating', 2), ('means', 2), ('business', 4), ('especially', 2), ('wake', 1), ('dodgy', 2), ('sexual', 1), ('assault', 1), ('stuff', 2), ('yup', 1), ('uber', 47), ('described', 1), ('mayor', 2), ('calgary', 1), ('worst', 2), ('people', 10), ('negotiate', 1), ('company', 5), ('pulls', 1), ('fine', 1), ('line', 1), ('legal', 2), ('informal', 1), ('economy', 1), ('allowed', 5), ('opperate', 1), ('however', 3), ('imagine', 1), ('uses', 1), ('bargaining', 1), ('chip', 1), ('proper', 2), ('cab', 41), ('industry', 5), ('hope', 3), ('least', 4), ('demonstrate', 2), ('new', 5), ('policies', 3), ('dealing', 1), ('demands', 2), ('obtain', 1), ('licence', 7), ('hoping', 1), ('also', 2), ('drives', 1), ('change', 3), ('taxi', 10), ('whole', 2), ('desperate', 1), ('resist', 1), ('think', 8), ('whats', 1), ('going', 9), ('happen', 4), ('within', 1), ('next', 3), ('show', 2), ('changed', 1), ('reporting', 6), ('methods', 1), ('pretty', 2), ('much', 4), ('non', 1), ('event', 1), ('getting', 2), ('back', 5), ('black', 35), ('ship', 1), ('sailed', 1), ('long', 3), ('ago', 2), ('last', 3), ('resort', 1), ('generally', 4), ('cunts', 2), ('wow', 1), ('huge', 2), ('move', 1), ('surprise', 1), ('leastuber', 1), ('still', 2), ('appeals', 1), ('process', 3), ('guess', 4), ('take', 8), ('months', 1), ('years', 2), ('statement', 3), ('says', 1), ('sure', 2), ('start', 3), ('complete', 2), ('amazing', 2), ('young', 2), ('girl', 2), ('moved', 1), ('makes', 4), ('feel', 4), ('100%', 1), ('safer', 4), ('drivers', 17), ('name', 1), ('registration', 1), ('plate', 1), ('phone', 1), ('journey', 2), ('tracked', 3), ('jumped', 1), (\"couldn't\", 2), ('see', 7), ('medallion', 1), ('number', 2), ('asked', 1), ('driver', 5), ('went', 1), ('mental', 1), ('kicked', 1), ('clearly', 2), ('narrow', 2), (\"escapeit's\", 1), ('great', 1), ('emergencies', 1), ('cash', 3), ('cards', 1), ('left', 2), ('bag', 1), ('took', 2), ('really', 5), ('short', 3), ('text', 1), ('get', 12), ('lifesaver', 1), ('girls', 1), ('anyone', 3), ('course', 2), ('saying', 2), ('perspective', 2), ('since', 1), ('two', 3), ('replies', 1), ('horrible', 2), ('thought', 2), ('leave', 1), ('simple', 1), ('comment', 2), ('sympathy', 1), (\"we're\", 1), ('fucking', 1), ('us', 2), ('accepting', 1), ('outside', 3), ('zone', 1), ('1', 1), ('never', 5), ('rivals', 1), ('eyes', 1), ('leastif', 1), ('rather', 1), ('walk', 1), ('home', 6), ('hour', 1), ('1am', 1), ('instead', 3), ('paying', 3), ('obscene', 1), ('fares', 2), ('voted', 1), ('thischeaper', 1), ('accessible', 1), ('app', 5), ('comfortable', 1), ('etc', 5), ('worth', 2), ('noting', 1), ('money', 3), ('lack', 2), ('compliance', 3), (\"tfl's\", 3), ('around', 5), ('criminal', 3), ('offences', 3), ('data', 2), ('medical', 3), ('certificates', 2), ('twittercom', 1), ('julesmattsson', 1), ('status', 1), ('911170360447574016uber', 1), ('nobody', 1), ('blame', 2), ('use', 5), ('revolutionised', 1), ('many', 4), ('able', 3), ('travel', 3), ('expensive', 2), ('outdated', 1), ('mini', 2), ('yet', 1), ('agree', 2), ('actually', 2), ('want', 3), ('give', 3), (\"won't\", 2), ('comply', 1), ('basic', 2), ('standards', 1), ('choice', 1), ('service', 4), ('shitty', 3), ('culture', 2), ('ethics', 1), ('vs', 1), ('breaking', 1), ('bank', 1), ('make', 2), ('result', 1), ('gets', 1), ('forced', 1), ('cleaning', 1), ('act', 3), ('delighted', 1), ('look', 1), ('shady', 2), ('things', 5), (\"shouldn't\", 1), ('legally', 2), (\"let's\", 1), ('try', 1), ('fix', 2), ('rest', 1), ('handling', 1), ('childish', 1), ('greedy', 1), ('anticonsumeri', 1), ('serious', 2), ('visual', 1), ('impairment', 1), ('basically', 3), ('renders', 1), ('blind', 1), ('night', 6), ('something', 2), ('similar', 3), ('retinosa', 1), ('pigmentosa', 1), ('travelling', 1), ('buses', 3), ('tube', 1), ('difficult', 3), ('thin', 1), ('tunnel', 1), ('navigating', 1), ('crowds', 1), ('extremely', 1), ('dangerous', 2), ('others', 2), ('carry', 1), ('white', 1), ('cane', 1), ('sometimes', 3), (\"isn't\", 3), ('enough', 2), ('life', 5), ('saver', 1), ('affiliation', 1), ('live', 2), ('normally', 1), ('possible', 2), ('lectures', 1), ('dark', 1), ('rainy', 1), ('afternoons', 1), ('friends', 1), ('everyone', 5), ('regular', 1), ('hospital', 1), ('appointments', 1), ('onwhat', 1), ('sets', 1), ('apart', 1), ('services', 3), ('contact', 1), ('hand', 2), ('let', 2), ('know', 9), ('condition', 2), ('absolutely', 6), ('every', 5), ('find', 3), ('exact', 1), ('location', 1), ('help', 1), ('car', 1), ('come', 1), ('exactly', 2), ('standing', 2), ('becomes', 1), ('task', 1), ('spot', 1), ('wave', 1), ('nighti', 1), (\"can't\", 2), ('describe', 1), ('fuller', 1), ('extent', 1), ('anxious', 1), ('trying', 1), ('place', 4), ('always', 3), ('given', 1), ('peace', 1), ('mind', 1), ('someone', 4), ('needi', 1), ('might', 1), ('minority', 1), ('case', 1), (\"wouldn't\", 1), ('met', 2), ('today', 2), ('lived', 2), ('currently', 1), ('living', 1), ('without', 3), ('fact', 3), ('changing', 1), ('operation', 1), ('year', 1), ('part', 1), ('moorfields', 1), ('optirpe65', 1), ('trials', 1), ('early', 1), ('morning', 2), ('family', 1), ('uberxl', 1), ('despite', 2), ('stress', 1), ('emotion', 1), ('day', 1), ('thankful', 1), ('gotten', 1), ('support', 2), ('side', 2), ('frustration', 1), ('modes', 1), ('transport', 2), ('recommend', 1), ('onto', 1), ('dialaride', 1), ('via', 1), ('tailor', 1), ('made', 1), ('impairments', 1), (\"here's\", 1), ('pbstwimgcom', 1), ('media', 2), ('dkueri0w0aauk8ljpglarge', 1), ('firms', 1), ('losing', 1), ('licenses', 1), ('strikes', 1), ('metric', 1), ('minicab', 1), ('sadiq', 4), ('khan', 3), ('sucked', 1), ('lobby', 1), ('election', 1), ('campaignfor', 1), ('lives', 2), ('south', 2), ('river', 1), ('permanently', 1), ('banned', 3), ('fucked', 2), ('intervene', 1), ('issue', 1), ('handled', 1), ('regulators', 1), ('penny', 1), ('seen', 1), ('say', 1), ('twitter', 2), ('understand', 2), ('officially', 1), ('represented', 1), ('handful', 1), ('remember', 2), ('charlie', 1), ('uploadwikimediaorg', 1), ('wikipedia', 1), ('en', 1), ('thumb', 1), ('e', 1), ('e1', 1), ('charlie_slater2jpg', 1), ('200pxcharlie_slater2jpg', 1), ('eastenders', 1), ('cunt', 1), ('bad', 2), ('news', 4), ('cabbies', 3), ('needed', 1), ('competition', 1), ('super', 1), ('convenient', 1), ('londoners', 1), ('essentially', 1), ('form', 1), ('ride', 2), ('sharing', 1), ('reduced', 1), ('numbers', 1), ('cars', 1), ('shame', 3), ('suddenly', 1), ('taking', 4), ('anywhere', 2), ('either', 2), ('perfect', 1), ('medium', 1), ('fill', 1), ('opportunity', 1), ('cost', 1), ('lost', 1), ('public', 3), ('replacement', 1), ('min', 1), ('one', 5), ('good', 9), ('addison', 2), ('lee', 2), ('anything', 2), ('else', 1), ('cyclist', 1), ('vehicles', 1), ('branded', 1), ('soon', 1), ('drive', 5), ('absolute', 2), ('ballbag', 1), ('need', 6), ('better', 2), ('crimes', 1), ('complying', 1), ('opening', 1), ('yep', 1), ('words', 1), ('expect', 1), ('subreddit', 2), ('love', 1), ('consider', 1), ('following', 3), ('terrible', 2), ('corporate', 3), ('numerous', 1), ('abuse', 3), ('sexism', 1), ('allegations', 1), ('offer', 3), ('employment', 2), ('rights', 3), ('thousands', 1), ('pay', 2), ('little', 2), ('taxes', 3), ('uk', 2), ('amount', 1), ('failed', 1), ('report', 2), ('endangering', 1), ('safety', 5), ('passengersi', 1), ('innovated', 1), ('market', 1), ('provided', 1), ('hate', 1), ('accept', 1), ('behaviour', 1), ('hopefully', 3), ('ridesharing', 1), ('firm', 1), ('launch', 1), ('acts', 1), ('responsibly', 1), ('staff', 1), ('advantage', 1), ('customers', 2), ('lot', 6), ('goes', 1), ('trade', 1), ('upheld', 1), ('shining', 1), ('example', 1), ('sexist', 1), ('racist', 1), ('known', 1), ('hmrc', 1), ('collect', 1), ('owing', 1), ('selfemployed', 1), ('plenty', 1), ('cases', 1), ('abusing', 1), ('passengers', 3), ('different', 2), ('elseit', 1), ('shines', 1), ('light', 1), ('forhire', 1), ('technology', 2), ('apply', 2), ('across', 1), ('feedback', 1), ('video', 1), ('vehicle', 1), ('thread', 5), ('drunken', 1), ('struggling', 1), ('appealing', 1), ('decision', 4), ('problems', 2), ('license', 3), ('ready', 1), ('mafia', 1), ('throwing', 1), ('behind', 1), ('paid', 1), ('jump', 1), ('yeah', 1), (\"might've\", 2), ('soonerit', 1), ('cheaperbut', 1), ('muchlondon', 1), ('got', 5), ('blocked', 2), ('girlit', 1), (\"could've\", 1), ('sooner', 1), ('stop', 3), ('clearing', 1), ('reapplying', 1), ('nothing', 4), ('actively', 1), ('encouraging', 1), ('based', 1), ('responsibility', 1), ('relation', 1), ('issues', 3), ('potential', 1), ('security', 1), ('implications', 1), ('include', 1), ('certification', 1), ('dbs', 2), ('checks', 2), (\"greyballi'd\", 1), ('interested', 1), ('seeing', 1), ('detail', 1), ('terms', 1), ('specific', 1), ('practices', 3), ('concerned', 1), ('point', 1), ('direction', 1), ('reading', 1), ('tflgovuk', 2), ('infofor', 1), ('pressreleases', 1), ('2017', 1), ('september', 1), ('licensingdecisiononuberlondonlimited', 1), (\"that's\", 3), ('experience', 1), ('overwhelmingly', 1), ('negative', 1), ('miss', 1), ('cheaper', 1), ('option', 1), ('personal', 1), ('personally', 1), ('frequently', 1), ('work', 1), ('late', 1), ('employer', 1), ('pays', 1), ('depending', 1), ('availability', 1), ('used', 1), ('go', 3), ('farringdon', 1), ('west', 1), ('kensington', 3), ('put', 2), ('gps', 1), (\"king's\", 2), ('cross', 3), ('past', 1), ('euston', 1), ('along', 2), ('a40', 2), ('coming', 1), ('top', 1), ('notting', 1), ('hill', 1), ('problem', 1), ('road', 2), ('rammed', 1), ('points', 2), ('unless', 1), ('lucky', 1), ('traffic', 2), ('10', 2), ('minutes', 1), ('quicker', 2), ('evening', 1), ('strand', 1), ('trafalgar', 1), ('square', 1), ('mall', 1), ('knew', 1), ('liked', 1), ('local', 1), ('knowledge', 1), ('meant', 1), ('said', 1), ('right', 5), ('odious', 1), ('nice', 2), ('ones', 1), ('whereas', 1), ('ranged', 1), ('comfortably', 1), ('quiet', 1), ('depend', 1), ('rating', 1), ('madness', 1), ('believe', 1), ('power', 3), ('identified', 1), ('model', 1), ('cabbie', 1), ('brexit', 1), ('british', 6), ('run', 1), ('men', 1), ('hair', 1), ('guts', 1), ('brainsand', 1), ('feetbritishhands', 1), ('brace', 1), ('union', 1), ('fanboys', 1), ('storming', 1), ('downvote', 1), ('brigade', 1), ('interesting', 1), ('almost', 1), ('polar', 1), ('opposite', 1), ('aside', 1), ('hilarious', 1), ('disgusting', 1), ('defend', 1), ('death', 1), ('massive', 1), ('corporation', 1), (\"worker's\", 1), ('matter', 2), ('cheap', 1), ('fabulous', 1), ('party', 1), ('tried', 1), ('found', 1), ('fairly', 1), ('valueblack', 1), ('probably', 1), ('waiting', 1), ('queue', 1), ('rank', 2), ('charing', 1), ('2am', 1), ('saturday', 1), ('would', 2), ('drop', 1), ('somebody', 1), ('empty', 1), ('refusing', 1), ('pick', 2), ('anybody', 1), ('bus', 2), ('literallyadded', 1), ('notoriously', 1), ('itblack', 1), ('block', 1), ('roads', 2), ('wwwtheguardiancom', 2), ('2016', 2), ('feb', 1), ('blackcabdriversuberprotestlondontrafficstandstill', 1), ('vile', 1), ('protesters', 1), ('uknews', 1), ('aug', 1), ('05', 1), ('blacklivesmatterprotestsparksheathrowtrafficchaos', 1), ('important', 1), ('commuting', 1), ('incredibly', 1), ('selfish', 2), ('care', 2), ('hurtand', 1), ('driving', 5), ('skills', 1), ('wander', 1), ('lane', 1), ('markings', 1), ('indicate', 1), ('zero', 1), ('actual', 1), ('*skill*', 1), ('offensive', 1), ('motoristsnobody', 1), ('wants', 1), ('thrive', 1), ('hateful', 1), ('attributes', 1), ('competitive', 1), ('kick', 2), ('arse', 1), ('sort', 1), ('admin', 1), ('maybe', 2), ('realise', 1), ('ridiculous', 1), ('prices', 1), ('forward', 1), (\"'night\", 1), (\"czar'\", 1), ('czar', 1), ('literally', 1), ('guidance', 1), ('operator', 1), ('inspections', 1), ('lf', 1), ('managed', 1), ('mess', 1), ('worse', 1), ('state', 1), ('cdn', 1), ('static', 1), ('cms', 1), ('documents', 1), ('phvoperatorinspectionspdfthey', 1), ('50', 1), ('failings', 1), ('several', 2), ('warnings', 1), ('already', 1), ('kinda', 1), ('pricks', 1), ('hear', 1), ('lyft', 3), ('scummy', 1), ('companynow', 1), ('replace', 1), ('alternative', 1), ('apps', 1), ('installed', 1), ('government', 1), ('job', 1), ('force', 1), ('becoming', 1), ('citizens', 1), (\"there's\", 1), ('petition', 1), ('started', 2), ('wwwchangeorg', 1), ('p', 1), ('saveyouruberinlondonsaveyouruber', 1), ('deleted', 3), ('another', 3), ('less', 2), ('rideshare', 1), ('lots', 1), ('13', 1), ('ever', 2), ('taken', 2), ('felt', 1), ('mugged', 1), ('honestly', 1), ('rude', 2), ('ubers', 2), ('constantly', 2), ('sad', 1), ('looks', 1), ('ill', 1), ('walking', 1), ('though', 1), ('cardio', 1), ('haha', 1), ('agreed', 1), ('trips', 1), ('unpleasant', 1), ('incidents', 1), ('fuck', 1), ('sake', 1), ('telling', 1), ('users', 1), ('comments', 2), ('defending', 1), ('tree', 1), ('organise', 1), ('protests', 1), ('stopping', 1), ('completing', 1), ('journeys', 1), ('therefore', 1), ('earning', 1), ('disgraceful', 2), ('deemed', 1), (\"'fit\", 1), (\"proper'\", 1), ('hold', 1), ('operators', 1), ('stated', 1), ('successfully', 1), ('various', 1), ('conditions', 1), ('fabric', 1), ('potentially', 1), ('inconvenient', 1), ('shit', 2), ('thing', 1), ('together', 1), ('convinced', 1), ('astroturf', 1), ('hell', 1), ('lmao', 1), ('classic', 1), (\"'people\", 1), ('must', 1), (\"shills'or\", 1), ('using', 1), ('dad', 2), ('nonracist', 1), ('tax', 1), ('happy', 1), ('three', 1), ('told', 1), ('lose', 1), ('argued', 1), ('eating', 1), ('hat', 1), ('nowmy', 1), ('minded', 1), ('understands', 1), ('brother', 1), ('times', 1), ('obviously', 1), ('information', 1), ('boy', 2), ('sub', 1), ('downhill', 1), ('simply', 1), ('asinine', 1), ('upvoting', 1), ('tosh', 1), ('hmmmm', 1), ('25000', 1), ('subs', 1), ('exhausted', 1), ('question', 1), ('wasnt', 1), ('expecting', 2), ('granted', 1), ('english', 1), ('language', 1), ('proficiency', 1), ('become', 1), ('employees', 1), ('contractors', 1), ('limits', 1), ('hours', 1), ('consent', 1), ('mandatory', 1), ('auditing', 1), ('hailo', 1), ('okay', 1), ('oh', 1), ('ffs', 1), ('launches', 1), ('heard', 1), ('elaborate', 1), ('background', 1), ('came', 1), (\"wasn't\", 1), ('rules', 3), ('fairness', 1), ('sick', 1), ('complaining', 1), ('duties', 1), ('gave', 1), ('excuse', 1), ('revoke', 1), ('didnt', 1), ('hailing', 1), ('recently', 1), ('juno', 1), ('available', 1), ('joke', 1), ('reason', 1), ('renewing', 1), ('safe', 1), ('glad', 2), ('gives', 1), ('improve', 1), ('raise', 1), ('standardsi', 1), ('tired', 1), ('dodge', 1), ('seem', 1), ('turn', 1), ('whenever', 1), ('low', 1), ('even', 1), ('standardjust', 1), ('encountered', 1), ('decided', 1), ('busy', 1), ('box', 1), ('junctions', 1), ('order', 1), ('stopped', 1), ('poor', 1), ('locations', 1), ('causing', 1), ('mayhem', 1), ('roadthey', 1), ('educated', 1), ('pass', 1), ('test', 1), ('additional', 1), ('training', 1), ('navigation', 1), ('passenger', 2), ('scared', 1), ('freshers', 1), ('shitshow', 1), ('3', 1), ('weeks', 1), ('running', 1), ('properly', 1), ('foot', 1), ('whoever', 1), ('takes', 1), ('showing', 1), ('useless', 1), ('crony', 1), ('capitalism', 1), ('legitimate', 1), ('concerns', 1)])"
      ]
     },
     "execution_count": 56,
     "metadata": {},
     "output_type": "execute_result"
    }
   ],
   "source": [
    "wordcount.items()"
   ]
  },
  {
   "cell_type": "code",
   "execution_count": 80,
   "metadata": {},
   "outputs": [],
   "source": [
    "taxi_mask = np.array(Image.open(r'C:\\data\\uber.png'))"
   ]
  },
  {
   "cell_type": "code",
   "execution_count": 100,
   "metadata": {
    "scrolled": true
   },
   "outputs": [
    {
     "data": {
      "image/png": "[encoded data removed]",
      "text/plain": [
       "<matplotlib.figure.Figure at 0x2243fd8a9e8>"
      ]
     },
     "metadata": {},
     "output_type": "display_data"
    },
    {
     "data": {
      "text/plain": [
       "<matplotlib.figure.Figure at 0x2243fe4c898>"
      ]
     },
     "metadata": {},
     "output_type": "display_data"
    },
    {
     "data": {
      "text/plain": [
       "<wordcloud.wordcloud.WordCloud at 0x2243fe2edd8>"
      ]
     },
     "execution_count": 100,
     "metadata": {},
     "output_type": "execute_result"
    }
   ],
   "source": [
    "def white_func(word, font_size, position, orientation, random_state=None, **kwargs):\n",
    "    return \"hsl(0, 100%, 100%)\" \n",
    "    \n",
    "    \n",
    "\n",
    "wordcloud = WordCloud(background_color='black', color_func=white_func, mask=taxi_mask)\n",
    "wordcloud.generate_from_frequencies(wordcount)\n",
    "plt.imshow(wordcloud)\n",
    "plt.axis(\"off\")\n",
    "plt.figure(frameon=True)\n",
    "plt.show()\n",
    "wordcloud.to_file(\"uberclouds.png\")"
   ]
  },
  {
   "cell_type": "code",
   "execution_count": 96,
   "metadata": {
    "collapsed": true
   },
   "outputs": [],
   "source": [
    "url2 = r'https://www.reddit.com/r/london/comments/724zik/uber_is_reportedly_ready_to_make_concessions_to/.json?limit=500'\n",
    "comments2 = []\n",
    "with urllib.request.urlopen(url2) as uber:\n",
    "    content = uber.read()\n",
    "contentd = json.loads(content)\n",
    "for index, i in enumerate(contentd[1]['data']['children']):\n",
    "    try:\n",
    "        comments.append(i['data']['body'])\n",
    "        \n",
    "        if i['data']['replies'] !=\"\":\n",
    "            comments2.append(i['data']['replies']['data']['children'][0]['data']['body'])\n",
    "    except:\n",
    "        print(index)\n",
    "        pass"
   ]
  },
  {
   "cell_type": "code",
   "execution_count": 97,
   "metadata": {
    "collapsed": true
   },
   "outputs": [],
   "source": [
    "clean2 = []\n",
    "for i in comments2:\n",
    "    clean2.append(i.lower().strip().replace('\\n','').replace('-','').replace('https:','').replace('&','and').replace('\"','') \\\n",
    "           .replace('?','').replace('!','').replace(',','').replace('.','').replace(':','').replace(';','').replace(')','') \\\n",
    "           .replace('(','').replace('[','').replace(']','').replace('/',' ').replace('\"it\\'s\"','it\\'s').replace('moneyi\\'ll','money i\\'ll'))"
   ]
  },
  {
   "cell_type": "code",
   "execution_count": 98,
   "metadata": {
    "collapsed": true
   },
   "outputs": [],
   "source": [
    "wordcount2 = {}\n",
    "\n",
    "for line in clean2: #for each line\n",
    "    words = line.split() #split into words ~~#space and tabs is default so nothing between brackets()\n",
    "    for word in words: # for each word in list words\n",
    "        \n",
    "        if word not in stop:\n",
    "            \n",
    "            wordcount2[word] = wordcount2.get(word, 0)+1 #add to dictionary, default of 0 add 1 when you find one"
   ]
  },
  {
   "cell_type": "code",
   "execution_count": 99,
   "metadata": {},
   "outputs": [
    {
     "data": {
      "image/png": "[encoded data removed]",
      "text/plain": [
       "<matplotlib.figure.Figure at 0x2243fc32438>"
      ]
     },
     "metadata": {},
     "output_type": "display_data"
    },
    {
     "data": {
      "text/plain": [
       "<matplotlib.figure.Figure at 0x2243fe42668>"
      ]
     },
     "metadata": {},
     "output_type": "display_data"
    }
   ],
   "source": [
    "def white_func(word, font_size, position, orientation, random_state=None, **kwargs):\n",
    "    return \"hsl(0, 100%, 100%)\" \n",
    "    \n",
    "    \n",
    "\n",
    "wordcloud = WordCloud(background_color='black', color_func=white_func, mask=taxi_mask)\n",
    "wordcloud.generate_from_frequencies(wordcount2)\n",
    "plt.imshow(wordcloud)\n",
    "plt.axis(\"off\")\n",
    "plt.figure(frameon=True)\n",
    "plt.show()"
   ]
  },
  {
   "cell_type": "code",
   "execution_count": null,
   "metadata": {
    "collapsed": true
   },
   "outputs": [],
   "source": []
  }
 ],
 "metadata": {
  "kernelspec": {
   "display_name": "Python 3",
   "language": "python",
   "name": "python3"
  },
  "language_info": {
   "codemirror_mode": {
    "name": "ipython",
    "version": 3
   },
   "file_extension": ".py",
   "mimetype": "text/x-python",
   "name": "python",
   "nbconvert_exporter": "python",
   "pygments_lexer": "ipython3",
   "version": "3.6.3"
  }
 },
 "nbformat": 4,
 "nbformat_minor": 2
}
